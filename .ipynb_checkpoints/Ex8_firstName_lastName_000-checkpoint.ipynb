{
 "cells": [
  {
   "cell_type": "markdown",
   "metadata": {},
   "source": [
    "# Solution Graded Exercise 8: Hopfield Network model of associative memory"
   ]
  },
  {
   "cell_type": "markdown",
   "metadata": {},
   "source": [
    "first name: ...\n",
    "\n",
    "last name: ...\n",
    "\n",
    "sciper: ...\n",
    "\n",
    "date: ...\n",
    "\n",
    "*Your teammate*\n",
    "\n",
    "first name of your teammate: ...\n",
    "\n",
    "last name of your teammate: ...\n",
    "\n",
    "sciper of your teammate: ...\n",
    "\n",
    "\n",
    "Note: You are allowed to discuss the concepts with your class mates. You are not allowed to share code. You have to understand every line of code you write in this notebook. We will ask you questions about your submission during a fraud detection session during the last week of the semester.\n",
    "\n",
    "** Remember **\n",
    "\n",
    "If you are asked for plots: The appearance of the plots (labelled axes, ** useful scaling **, etc.) is important!\n",
    "\n",
    "If you are asked for discussions: Answer in a precise way and try to be concise. \n",
    "\n",
    "\n",
    "** Submission **\n",
    "\n",
    "Rename this notebook to Ex8_FirstName_LastName_Sciper.ipynb and upload that single file on moodle before the deadline.\n",
    "\n",
    "** Link to the exercise **\n",
    "\n",
    "http://neuronaldynamics-exercises.readthedocs.io/en/latest/exercises/hopfield-network.html"
   ]
  },
  {
   "cell_type": "markdown",
   "metadata": {},
   "source": [
    "## \\* \\* \\* \\* Programming Notes : Copying and slicing lists and numpy arrays \\* \\* \\* \\*\n",
    "We would like to take the opportunity to bring to your attention certain features of Python, that might lead to unwanted behaviour and serious mistakes, if one is not aware of them. \n",
    "Please check the Python Cheat Sheet file on the moodle (https://moodle.epfl.ch/mod/page/view.php?id=981134 Part 4 of the ipynb file) for some examples of the following notes:\n",
    "\n",
    "* Assigning a list to a new variable does not create a copy of the list, but creates a variable that points to the list. This means that modifying the second variable, also modifies the original list.\n",
    "* Assigning a slice of a list to a new variable, creates a copy of the list. Any modification to the sliced list does not modify the original.\n",
    "\n",
    "Now when it comes to numpy arrays:\n",
    "* Assigning a numpy array to a new variable does not create a copy of the array, but creates a variable that points to the array. This means that modifying the second variable, also modifies the original array. (same as above)\n",
    "* Assigning a slice of a numpy array to a new variable creates a variable that points to the corresponding elements of the original array as well! (contrary to what we saw above!) This means that modifying the second variable, also modifies the original array!\n",
    "* To copy the original array and ensure that it is not modified by any modification of its copied version, the method copy() should be used."
   ]
  },
  {
   "cell_type": "markdown",
   "metadata": {},
   "source": [
    "# Exercise 8.1. Getting started"
   ]
  },
  {
   "cell_type": "code",
   "execution_count": 1,
   "metadata": {},
   "outputs": [],
   "source": [
    "import numpy as np\n",
    "import matplotlib.pyplot as plt\n",
    "import warnings\n",
    "warnings.simplefilter('ignore')"
   ]
  },
  {
   "cell_type": "code",
   "execution_count": 2,
   "metadata": {},
   "outputs": [
    {
     "data": {
      "image/png": "[encoded data removed]",
      "text/plain": [
       "<Figure size 432x288 with 4 Axes>"
      ]
     },
     "metadata": {},
     "output_type": "display_data"
    },
    {
     "data": {
      "image/png": "[encoded data removed]",
      "text/plain": [
       "<Figure size 432x288 with 2 Axes>"
      ]
     },
     "metadata": {},
     "output_type": "display_data"
    },
    {
     "data": {
      "image/png": "[encoded data removed]",
      "text/plain": [
       "<Figure size 432x288 with 5 Axes>"
      ]
     },
     "metadata": {},
     "output_type": "display_data"
    },
    {
     "data": {
      "image/png": "[encoded data removed]",
      "text/plain": [
       "<Figure size 432x288 with 10 Axes>"
      ]
     },
     "metadata": {},
     "output_type": "display_data"
    }
   ],
   "source": [
    "%matplotlib inline\n",
    "from neurodynex.hopfield_network import network, pattern_tools, plot_tools\n",
    "\n",
    "np.random.seed(324)\n",
    "\n",
    "pattern_size = 5\n",
    "\n",
    "# create an instance of the class HopfieldNetwork\n",
    "hopfield_net = network.HopfieldNetwork(nr_neurons= pattern_size**2)\n",
    "# instantiate a pattern factory\n",
    "factory = pattern_tools.PatternFactory(pattern_size, pattern_size)\n",
    "# create a checkerboard pattern and add it to the pattern list\n",
    "checkerboard = factory.create_checkerboard()\n",
    "pattern_list = [checkerboard]\n",
    "\n",
    "# add random patterns to the list\n",
    "pattern_list.extend(factory.create_random_pattern_list(nr_patterns=3, on_probability=0.5))\n",
    "plot_tools.plot_pattern_list(pattern_list)\n",
    "# how similar are the random patterns and the checkerboard? Check the overlaps\n",
    "overlap_matrix = pattern_tools.compute_overlap_matrix(pattern_list)\n",
    "plot_tools.plot_overlap_matrix(overlap_matrix)\n",
    "\n",
    "# let the hopfield network \"learn\" the patterns. Note: they are not stored\n",
    "# explicitly but only network weights are updated !\n",
    "hopfield_net.store_patterns(pattern_list)\n",
    "\n",
    "# create a noisy version of a pattern and use that to initialize the network\n",
    "noisy_init_state = pattern_tools.flip_n(checkerboard, nr_of_flips=4)\n",
    "hopfield_net.set_state_from_pattern(noisy_init_state)\n",
    "\n",
    "# from this initial state, let the network dynamics evolve.\n",
    "states = hopfield_net.run_with_monitoring(nr_steps=4)\n",
    "\n",
    "# each network state is a vector. reshape it to the same shape used to create the patterns.\n",
    "states_as_patterns = factory.reshape_patterns(states)\n",
    "# plot the states of the network\n",
    "plot_tools.plot_pattern_list(states_as_patterns)\n",
    "plot_tools.plot_state_sequence_and_overlap(states_as_patterns, pattern_list, reference_idx=0, suptitle=\"Network dynamics\")\n"
   ]
  },
  {
   "cell_type": "markdown",
   "metadata": {},
   "source": [
    "# 8.3. Exercise: N=4x4 Hopfield-network\n",
    "## 8.3.1. Question: Storing a single pattern\n",
    "#### [2 + 2 + 3 points]"
   ]
  },
  {
   "cell_type": "code",
   "execution_count": 3,
   "metadata": {},
   "outputs": [
    {
     "data": {
      "image/png": "[encoded data removed]",
      "text/plain": [
       "<Figure size 432x288 with 1 Axes>"
      ]
     },
     "metadata": {},
     "output_type": "display_data"
    }
   ],
   "source": [
    "# write your code here \n",
    "\n",
    "def hopfield_sim(pattern_size,nr_flips,nr_steps,K):\n",
    "    \"\"\"This function runs a simulation of the hopfield model for 4 time steps\n",
    "        INPUT:\n",
    "        pattern_size -> length and width of the pattern\n",
    "        nr_flips -> nr of flipped values between the initial state and the checkerboard\n",
    "        nr_steps -> nr of steps the evolution of the model does\n",
    "        K = number of total paterns to be stored\"\"\"\n",
    "    hopfield_net = network.HopfieldNetwork(nr_neurons = pattern_size**2)\n",
    "    factory = pattern_tools.PatternFactory(pattern_size,pattern_size)\n",
    "    checkerboard = factory.create_checkerboard()\n",
    "    pattern_list = [checkerboard]\n",
    "    pattern_list.extend(factory.create_random_pattern_list(nr_patterns=K-1, on_probability=0.5))\n",
    "\n",
    "\n",
    "    hopfield_net.store_patterns(pattern_list)\n",
    "\n",
    "    noisy_init_state = pattern_tools.flip_n(checkerboard, nr_of_flips = nr_flips)\n",
    "    hopfield_net.set_state_from_pattern(noisy_init_state)\n",
    "    \n",
    "    states = hopfield_net.run_with_monitoring(nr_steps=nr_steps)\n",
    "    states_as_patterns = factory.reshape_patterns(states)\n",
    "    \n",
    "    return states_as_patterns, pattern_list\n",
    "\n",
    "np.random.seed(324)\n",
    "states_as_patterns, pattern_list = hopfield_sim(pattern_size = 4, nr_flips=5,nr_steps=4,K=1)\n",
    "plot_tools.plot_pattern_list(pattern_list)"
   ]
  },
  {
   "cell_type": "code",
   "execution_count": 4,
   "metadata": {},
   "outputs": [
    {
     "data": {
      "image/png": "[encoded data removed]",
      "text/plain": [
       "<Figure size 432x288 with 5 Axes>"
      ]
     },
     "metadata": {},
     "output_type": "display_data"
    },
    {
     "data": {
      "image/png": "[encoded data removed]",
      "text/plain": [
       "<Figure size 432x288 with 10 Axes>"
      ]
     },
     "metadata": {},
     "output_type": "display_data"
    }
   ],
   "source": [
    "# Plot the sequence of network states along with the overlap of network state with the checkerboard\n",
    "plot_tools.plot_pattern_list(states_as_patterns)\n",
    "plot_tools.plot_state_sequence_and_overlap(states_as_patterns, pattern_list,reference_idx=0, suptitle=\"Network Dynamics\")"
   ]
  },
  {
   "cell_type": "markdown",
   "metadata": {},
   "source": [
    "Now test whether the network can still retrieve the pattern if we increase the number of flipped pixels. What happens at nr_flipped_pixels = 8, what if nr_flipped_pixels > 8 ?"
   ]
  },
  {
   "cell_type": "code",
   "execution_count": 5,
   "metadata": {
    "scrolled": true
   },
   "outputs": [
    {
     "name": "stdout",
     "output_type": "stream",
     "text": [
      "Number of flips=8\n"
     ]
    },
    {
     "data": {
      "image/png": "[encoded data removed]",
      "text/plain": [
       "<Figure size 432x288 with 5 Axes>"
      ]
     },
     "metadata": {},
     "output_type": "display_data"
    },
    {
     "name": "stdout",
     "output_type": "stream",
     "text": [
      "Number of flips=10\n"
     ]
    },
    {
     "data": {
      "image/png": "[encoded data removed]",
      "text/plain": [
       "<Figure size 432x288 with 5 Axes>"
      ]
     },
     "metadata": {},
     "output_type": "display_data"
    },
    {
     "name": "stdout",
     "output_type": "stream",
     "text": [
      "Number of flips=12\n"
     ]
    },
    {
     "data": {
      "image/png": "[encoded data removed]",
      "text/plain": [
       "<Figure size 432x288 with 5 Axes>"
      ]
     },
     "metadata": {},
     "output_type": "display_data"
    }
   ],
   "source": [
    "for i in range(8,13,2):\n",
    "    states_as_patterns, pattern_list = hopfield_sim(pattern_size = 4, nr_flips=i,nr_steps=4,K=1)\n",
    "    print(\"Number of flips={}\".format(i))\n",
    "    plot_tools.plot_pattern_list(states_as_patterns)"
   ]
  },
  {
   "cell_type": "markdown",
   "metadata": {},
   "source": [
    "#### For 8 flips the state does not converge to the checkboard pattern,but at every step the system flips all its state with respect to its self. Indeed if we consider a pixel which has not been flipped with respect to the corresponding one on the original checkboard, when computing its state at the next step there will be 8 flipped contributions and 7 unflipped contributions: the pixel will be dominated by \"wrong\" contributions so it will be flipped with respect to the checkboard. Instead if we consider a pixel which has been flipped, its next state will be given by the contribution of 8 \"correct\" weights and 7 \"incorrect\" weights, so it will be as in the original checkboard. \n",
    "#### For more than 8 flips, the state converges to a checkboard pattern with all the pixels flipped with respect to the original one: indeed all the next states of the pixels are given by a dominant contribution of \"incorrect\" pixels. "
   ]
  },
  {
   "cell_type": "markdown",
   "metadata": {},
   "source": [
    "## 8.3.2. Question: the weights matrix\n",
    "#### [1 + 3 + 2 points]"
   ]
  },
  {
   "cell_type": "code",
   "execution_count": 6,
   "metadata": {},
   "outputs": [
    {
     "data": {
      "image/png": "[encoded data removed]",
      "text/plain": [
       "<Figure size 432x288 with 2 Axes>"
      ]
     },
     "metadata": {},
     "output_type": "display_data"
    },
    {
     "data": {
      "image/png": "[encoded data removed]",
      "text/plain": [
       "<Figure size 432x288 with 2 Axes>"
      ]
     },
     "metadata": {},
     "output_type": "display_data"
    },
    {
     "data": {
      "image/png": "[encoded data removed]",
      "text/plain": [
       "<Figure size 432x288 with 1 Axes>"
      ]
     },
     "metadata": {},
     "output_type": "display_data"
    }
   ],
   "source": [
    "# write your code here: Bullet points 1-5 \n",
    "\n",
    "pattern_size = 4\n",
    "\n",
    "# create an instance of the class HopfieldNetwork\n",
    "hopfield_net = network.HopfieldNetwork(nr_neurons= pattern_size**2)\n",
    "\n",
    "# Visualize the weight matrix\n",
    "plot_tools.plot_nework_weights(hopfield_net, color_map='jet')\n",
    "\n",
    "# instantiate a pattern factory\n",
    "factory = pattern_tools.PatternFactory(pattern_size, pattern_size)\n",
    "# create a checkerboard pattern and add it to the pattern list\n",
    "checkerboard = factory.create_checkerboard()\n",
    "pattern_list = [checkerboard]\n",
    "# store the checkerboard\n",
    "hopfield_net.store_patterns(pattern_list)\n",
    "# Visualize the weight matrix\n",
    "plot_tools.plot_nework_weights(hopfield_net, color_map='jet')\n",
    "plt.figure()\n",
    "plt.hist(hopfield_net.weights.flatten())\n",
    "plt.show()"
   ]
  },
  {
   "cell_type": "markdown",
   "metadata": {},
   "source": [
    "#### The size of the matrix is 4x4 = 16"
   ]
  },
  {
   "cell_type": "code",
   "execution_count": 7,
   "metadata": {},
   "outputs": [
    {
     "data": {
      "image/png": "[encoded data removed]",
      "text/plain": [
       "<Figure size 432x288 with 2 Axes>"
      ]
     },
     "metadata": {},
     "output_type": "display_data"
    },
    {
     "data": {
      "image/png": "[encoded data removed]",
      "text/plain": [
       "<Figure size 432x288 with 1 Axes>"
      ]
     },
     "metadata": {},
     "output_type": "display_data"
    }
   ],
   "source": [
    "# write your code here: Bullet points 6-11\n",
    "\n",
    "\n",
    "pattern_size = 4\n",
    "\n",
    "# create an instance of the class HopfieldNetwork\n",
    "hopfield_net = network.HopfieldNetwork(nr_neurons= pattern_size**2)\n",
    "\n",
    "# instantiate a pattern factory\n",
    "factory = pattern_tools.PatternFactory(pattern_size, pattern_size)\n",
    "# create a L pattern and add it to the pattern list\n",
    "l_pattern = factory.create_L_pattern()\n",
    "pattern_list = [l_pattern]\n",
    "\n",
    "# store the checkerboard\n",
    "hopfield_net.store_patterns(pattern_list)\n",
    "# Visualize the weight matrix\n",
    "plot_tools.plot_nework_weights(hopfield_net, color_map='jet')\n",
    "plt.figure()\n",
    "plt.hist(hopfield_net.weights.flatten())\n",
    "plt.show()"
   ]
  },
  {
   "cell_type": "code",
   "execution_count": 8,
   "metadata": {},
   "outputs": [
    {
     "data": {
      "image/png": "[encoded data removed]",
      "text/plain": [
       "<Figure size 432x288 with 2 Axes>"
      ]
     },
     "metadata": {},
     "output_type": "display_data"
    },
    {
     "data": {
      "image/png": "[encoded data removed]",
      "text/plain": [
       "<Figure size 432x288 with 1 Axes>"
      ]
     },
     "metadata": {},
     "output_type": "display_data"
    }
   ],
   "source": [
    "pattern_size = 4\n",
    "\n",
    "# create an instance of the class HopfieldNetwork\n",
    "hopfield_net = network.HopfieldNetwork(nr_neurons= pattern_size**2)\n",
    "\n",
    "# instantiate a pattern factory\n",
    "factory = pattern_tools.PatternFactory(pattern_size, pattern_size)\n",
    "# create a L pattern and add it to the pattern list\n",
    "checkerboard = factory.create_checkerboard()\n",
    "l_pattern = factory.create_L_pattern()\n",
    "pattern_list = [checkerboard,l_pattern]\n",
    "\n",
    "# store the checkerboard\n",
    "hopfield_net.store_patterns(pattern_list)\n",
    "# Visualize the weight matrix\n",
    "plot_tools.plot_nework_weights(hopfield_net, color_map='jet')\n",
    "plt.figure()\n",
    "plt.hist(hopfield_net.weights.flatten())\n",
    "plt.show()"
   ]
  },
  {
   "cell_type": "markdown",
   "metadata": {},
   "source": [
    "How does this matrix compare to the two previous matrices?"
   ]
  },
  {
   "cell_type": "markdown",
   "metadata": {},
   "source": [
    "#### In the third case, when we stored both patterns, the weight matrix is the sum of the matrices retrieved in the cases when we stored just the checkerboard or the L-pattern"
   ]
  },
  {
   "cell_type": "markdown",
   "metadata": {},
   "source": []
  },
  {
   "cell_type": "markdown",
   "metadata": {},
   "source": [
    "## 8.3.3. Question (optional): Weights Distribution"
   ]
  },
  {
   "cell_type": "code",
   "execution_count": 9,
   "metadata": {},
   "outputs": [],
   "source": [
    "# You can easily plot a histogram by adding the following two lines to your script. \n",
    "#It assumes you have stored your network in the variable ‘hopfield_net’.\n",
    "#plt.figure()\n",
    "#plt.hist(hopfield_net.weights.flatten())\n"
   ]
  },
  {
   "cell_type": "markdown",
   "metadata": {},
   "source": [
    "# 8.4. Exercise: Capacity of an N=100 Hopfield-network\n",
    "## 8.4.1. Associative memory.\n",
    "#### [2 points]"
   ]
  },
  {
   "cell_type": "markdown",
   "metadata": {
    "collapsed": true
   },
   "source": [
    "A Hopfield network implements so called associative or content-adressable memory. Explain what this means. (max 4 lines)\n"
   ]
  },
  {
   "cell_type": "markdown",
   "metadata": {},
   "source": [
    "#### Hopfield model aims at classifying an input data by associating it to the closest prototype among the several prototypes $\\vec{p}^1_\\mu$, $\\vec{p}^2_\\mu$, ... , $\\vec{p}^N_\\mu$ stored in the network. A stimulus is memorized, according to the Hebbian learning of association theory, when different neurons are activated together by the stimulus: when they fire together their connection becomes stronger and an assembly representing the stimulus concept is formed. If the item is memorized, associative recall allows to retrieve full information from partial information. "
   ]
  },
  {
   "cell_type": "markdown",
   "metadata": {
    "collapsed": true
   },
   "source": [
    "## 8.4.2. Capacity of the network.\n",
    "#### [1 points]"
   ]
  },
  {
   "cell_type": "markdown",
   "metadata": {
    "collapsed": true
   },
   "source": [
    "Using the value $C_{store}$\n",
    " given in the book, how many patterns can you store in a N=10x10 network? Use this number K in the next question:\n"
   ]
  },
  {
   "cell_type": "markdown",
   "metadata": {},
   "source": [
    "#### $C_{store} = 0.105$\n",
    "#### $M_{max} = C_{store}N_{neurons} = 10$"
   ]
  },
  {
   "cell_type": "markdown",
   "metadata": {
    "collapsed": true
   },
   "source": [
    "## 8.4.3. Checkerboard and random patterns.\n",
    "#### [3 points]"
   ]
  },
  {
   "cell_type": "code",
   "execution_count": 10,
   "metadata": {},
   "outputs": [
    {
     "data": {
      "image/png": "[encoded data removed]",
      "text/plain": [
       "<Figure size 432x288 with 6 Axes>"
      ]
     },
     "metadata": {},
     "output_type": "display_data"
    }
   ],
   "source": [
    "# write your code here\n",
    "np.random.seed(327)\n",
    "\n",
    "pattern_size = 10\n",
    "nr_flips = 0\n",
    "nr_steps = 5\n",
    "K = 10\n",
    "\n",
    "states_as_patterns, pattern_list = hopfield_sim(pattern_size = pattern_size, nr_flips=nr_flips,nr_steps=nr_steps,K=K)\n",
    "plot_tools.plot_pattern_list(states_as_patterns)"
   ]
  },
  {
   "cell_type": "markdown",
   "metadata": {
    "collapsed": true
   },
   "source": [
    "Rerun your script a few times. What do you observe? \n",
    "#### [2 points]"
   ]
  },
  {
   "cell_type": "code",
   "execution_count": 11,
   "metadata": {},
   "outputs": [
    {
     "name": "stdout",
     "output_type": "stream",
     "text": [
      "Simulation 1 out of 5\n"
     ]
    },
    {
     "data": {
      "image/png": "[encoded data removed]",
      "text/plain": [
       "<Figure size 432x288 with 6 Axes>"
      ]
     },
     "metadata": {},
     "output_type": "display_data"
    },
    {
     "name": "stdout",
     "output_type": "stream",
     "text": [
      "Simulation 2 out of 5\n"
     ]
    },
    {
     "data": {
      "image/png": "[encoded data removed]",
      "text/plain": [
       "<Figure size 432x288 with 6 Axes>"
      ]
     },
     "metadata": {},
     "output_type": "display_data"
    },
    {
     "name": "stdout",
     "output_type": "stream",
     "text": [
      "Simulation 3 out of 5\n"
     ]
    },
    {
     "data": {
      "image/png": "[encoded data removed]",
      "text/plain": [
       "<Figure size 432x288 with 6 Axes>"
      ]
     },
     "metadata": {},
     "output_type": "display_data"
    },
    {
     "name": "stdout",
     "output_type": "stream",
     "text": [
      "Simulation 4 out of 5\n"
     ]
    },
    {
     "data": {
      "image/png": "[encoded data removed]",
      "text/plain": [
       "<Figure size 432x288 with 6 Axes>"
      ]
     },
     "metadata": {},
     "output_type": "display_data"
    },
    {
     "name": "stdout",
     "output_type": "stream",
     "text": [
      "Simulation 5 out of 5\n"
     ]
    },
    {
     "data": {
      "image/png": "[encoded data removed]",
      "text/plain": [
       "<Figure size 432x288 with 6 Axes>"
      ]
     },
     "metadata": {},
     "output_type": "display_data"
    }
   ],
   "source": [
    "for i in range(5):\n",
    "    np.random.seed(535+i)\n",
    "    states_as_patterns, pattern_list = hopfield_sim(pattern_size = pattern_size, nr_flips=nr_flips,nr_steps=nr_steps,K=K)\n",
    "    print('Simulation {} out of 5'.format(i+1))\n",
    "    plot_tools.plot_pattern_list(states_as_patterns)"
   ]
  },
  {
   "cell_type": "markdown",
   "metadata": {},
   "source": [
    "# 8.5. Exercise: Non-random patterns\n",
    "## 8.5.1. Alphabet."
   ]
  },
  {
   "cell_type": "code",
   "execution_count": 17,
   "metadata": {},
   "outputs": [
    {
     "name": "stdout",
     "output_type": "stream",
     "text": [
      "the alphabet is stored in an object of type: <type 'dict'>\n",
      "letters are patterns of size: (10L, 10L). Create a network of corresponding size\n"
     ]
    },
    {
     "data": {
      "image/png": "[encoded data removed]",
      "text/plain": [
       "<matplotlib.figure.Figure at 0x1d5a3160>"
      ]
     },
     "metadata": {},
     "output_type": "display_data"
    },
    {
     "ename": "ValueError",
     "evalue": "shape mismatch: value array of shape (100,) could not be broadcast to indexing result of shape (20,)",
     "output_type": "error",
     "traceback": [
      "\u001b[1;31m---------------------------------------------------------------------------\u001b[0m",
      "\u001b[1;31mValueError\u001b[0m                                Traceback (most recent call last)",
      "\u001b[1;32m<ipython-input-17-9cfab87641f9>\u001b[0m in \u001b[0;36m<module>\u001b[1;34m()\u001b[0m\n\u001b[0;32m     26\u001b[0m \u001b[1;33m\u001b[0m\u001b[0m\n\u001b[0;32m     27\u001b[0m \u001b[1;31m# # create a noisy version of a pattern and use that to initialize the network\u001b[0m\u001b[1;33m\u001b[0m\u001b[1;33m\u001b[0m\u001b[0m\n\u001b[1;32m---> 28\u001b[1;33m \u001b[0mnoisy_init_state\u001b[0m \u001b[1;33m=\u001b[0m \u001b[0mpattern_tools\u001b[0m\u001b[1;33m.\u001b[0m\u001b[0mget_noisy_copy\u001b[0m\u001b[1;33m(\u001b[0m\u001b[0mabc_dictionary\u001b[0m\u001b[1;33m[\u001b[0m\u001b[1;34m'A'\u001b[0m\u001b[1;33m]\u001b[0m\u001b[1;33m,\u001b[0m \u001b[0mnoise_level\u001b[0m\u001b[1;33m=\u001b[0m\u001b[1;36m0.2\u001b[0m\u001b[1;33m)\u001b[0m\u001b[1;33m\u001b[0m\u001b[0m\n\u001b[0m\u001b[0;32m     29\u001b[0m \u001b[0mhopfield_net\u001b[0m\u001b[1;33m.\u001b[0m\u001b[0mset_state_from_pattern\u001b[0m\u001b[1;33m(\u001b[0m\u001b[0mnoisy_init_state\u001b[0m\u001b[1;33m)\u001b[0m\u001b[1;33m\u001b[0m\u001b[0m\n\u001b[0;32m     30\u001b[0m \u001b[1;33m\u001b[0m\u001b[0m\n",
      "\u001b[1;32mC:\\Users\\Federico\\AppData\\Local\\Continuum\\anaconda2\\lib\\site-packages\\neurodynex\\hopfield_network\\pattern_tools.pyc\u001b[0m in \u001b[0;36mget_noisy_copy\u001b[1;34m(template, noise_level)\u001b[0m\n\u001b[0;32m    235\u001b[0m     \u001b[0mrand_values\u001b[0m \u001b[1;33m=\u001b[0m \u001b[0mnp\u001b[0m\u001b[1;33m.\u001b[0m\u001b[0mrandom\u001b[0m\u001b[1;33m.\u001b[0m\u001b[0mbinomial\u001b[0m\u001b[1;33m(\u001b[0m\u001b[1;36m1\u001b[0m\u001b[1;33m,\u001b[0m \u001b[1;36m0.5\u001b[0m\u001b[1;33m,\u001b[0m \u001b[0mn\u001b[0m\u001b[1;33m)\u001b[0m\u001b[1;33m\u001b[0m\u001b[0m\n\u001b[0;32m    236\u001b[0m     \u001b[0mrand_values\u001b[0m \u001b[1;33m=\u001b[0m \u001b[0mrand_values\u001b[0m \u001b[1;33m*\u001b[0m \u001b[1;36m2\u001b[0m \u001b[1;33m-\u001b[0m \u001b[1;36m1\u001b[0m  \u001b[1;31m# map {0,1} to {-1, +1}\u001b[0m\u001b[1;33m\u001b[0m\u001b[0m\n\u001b[1;32m--> 237\u001b[1;33m     \u001b[0mlinear_template\u001b[0m\u001b[1;33m[\u001b[0m\u001b[0midx_reassignment\u001b[0m\u001b[1;33m]\u001b[0m \u001b[1;33m=\u001b[0m \u001b[0mrand_values\u001b[0m\u001b[1;33m\u001b[0m\u001b[0m\n\u001b[0m\u001b[0;32m    238\u001b[0m     \u001b[1;32mreturn\u001b[0m \u001b[0mlinear_template\u001b[0m\u001b[1;33m.\u001b[0m\u001b[0mreshape\u001b[0m\u001b[1;33m(\u001b[0m\u001b[0mtemplate\u001b[0m\u001b[1;33m.\u001b[0m\u001b[0mshape\u001b[0m\u001b[1;33m)\u001b[0m\u001b[1;33m\u001b[0m\u001b[0m\n\u001b[0;32m    239\u001b[0m \u001b[1;33m\u001b[0m\u001b[0m\n",
      "\u001b[1;31mValueError\u001b[0m: shape mismatch: value array of shape (100,) could not be broadcast to indexing result of shape (20,)"
     ]
    }
   ],
   "source": [
    "%matplotlib inline\n",
    "import matplotlib.pyplot as plt\n",
    "from neurodynex.hopfield_network import network, pattern_tools, plot_tools\n",
    "import numpy\n",
    "\n",
    "# the letters we want to store in the hopfield network\n",
    "letter_list = ['A', 'B', 'C', 'S', 'X', 'Y', 'Z']\n",
    "\n",
    "# set a seed to reproduce the same noise in the next run\n",
    "# numpy.random.seed(123)\n",
    "\n",
    "abc_dictionary =pattern_tools.load_alphabet()\n",
    "print(\"the alphabet is stored in an object of type: {}\".format(type(abc_dictionary)))\n",
    "# access the first element and get it's size (they are all of same size)\n",
    "pattern_shape = abc_dictionary['A'].shape\n",
    "print(\"letters are patterns of size: {}. Create a network of corresponding size\".format(pattern_shape))\n",
    "# create an instance of the class HopfieldNetwork\n",
    "hopfield_net = network.HopfieldNetwork(nr_neurons= pattern_shape[0]*pattern_shape[1])\n",
    "\n",
    "# create a list using Pythons List Comprehension syntax:\n",
    "pattern_list = [abc_dictionary[key] for key in letter_list ]\n",
    "plot_tools.plot_pattern_list(pattern_list)\n",
    "\n",
    "# store the patterns\n",
    "hopfield_net.store_patterns(pattern_list)\n",
    "\n",
    "# # create a noisy version of a pattern and use that to initialize the network\n",
    "noisy_init_state = pattern_tools.get_noisy_copy(abc_dictionary['A'], noise_level=0.2)\n",
    "hopfield_net.set_state_from_pattern(noisy_init_state)\n",
    "\n",
    "# from this initial state, let the network dynamics evolve.\n",
    "states = hopfield_net.run_with_monitoring(nr_steps=4)\n",
    "\n",
    "# each network state is a vector. reshape it to the same shape used to create the patterns.\n",
    "states_as_patterns = pattern_tools.reshape_patterns(states, pattern_list[0].shape)\n",
    "\n",
    "# plot the states of the network\n",
    "plot_tools.plot_state_sequence_and_overlap(\n",
    "    states_as_patterns, pattern_list, reference_idx=0, suptitle=\"Network dynamics\")"
   ]
  },
  {
   "cell_type": "markdown",
   "metadata": {
    "collapsed": true
   },
   "source": [
    "## 8.5.2. Add a letter.\n",
    "#### [2 points]"
   ]
  },
  {
   "cell_type": "code",
   "execution_count": null,
   "metadata": {
    "collapsed": true
   },
   "outputs": [],
   "source": [
    "# write your code here"
   ]
  },
  {
   "cell_type": "markdown",
   "metadata": {},
   "source": [
    "Is the pattern ‘A’ still a fixed point? \n",
    "Does the overlap between the network state and the reference pattern ‘A’ always decrease? (max 3 lines)\n",
    "#### [3 points]"
   ]
  },
  {
   "cell_type": "markdown",
   "metadata": {
    "collapsed": true
   },
   "source": [
    "## 8.5.3. Capacity.\n",
    "#### [3 points]"
   ]
  },
  {
   "cell_type": "code",
   "execution_count": 3,
   "metadata": {
    "collapsed": true
   },
   "outputs": [],
   "source": [
    "# write your code here"
   ]
  },
  {
   "cell_type": "markdown",
   "metadata": {},
   "source": [
    "Explain the discrepancy between the network capacity C (computed above) and your observation. (max 4 lines)\n",
    "#### [3 points]"
   ]
  },
  {
   "cell_type": "markdown",
   "metadata": {},
   "source": [
    "# 8.6. Implementing different types of dynamics\n",
    "### *** Note:*** this exercise is NOT a bonus and it is graded\n",
    "## 8.6.1. Exercise:\n",
    "Implement a Hopfield network with asynchronous dynamics (use the function set_dynamics_sign_async()). Store 5 random patterns (take inspiration from exercise 8.3). Fix a noisy initial state, run the network a few times and observe the performance over the different trials.\n",
    "\n",
    "Parameters: network size=5x5, number of rnd patterns=5, on probability=0.5, number of flips=8.\n",
    "#### [5 points]"
   ]
  },
  {
   "cell_type": "code",
   "execution_count": 1,
   "metadata": {
    "collapsed": true
   },
   "outputs": [],
   "source": [
    "# write your code here"
   ]
  },
  {
   "cell_type": "markdown",
   "metadata": {},
   "source": [
    "Comment on your results (max 3 lines).\n",
    "#### [3 points]"
   ]
  },
  {
   "cell_type": "code",
   "execution_count": null,
   "metadata": {
    "collapsed": true
   },
   "outputs": [],
   "source": []
  },
  {
   "cell_type": "markdown",
   "metadata": {},
   "source": [
    "## 8.6.2. Stochastic neuron\n",
    "Implement a synchronous and stochastic neuron. Use the function HopfieldNetwork.set_dynamics_to_user_function() in order to pass _get_sigmoid_update_function(), which you should implement. \n",
    "\n",
    "In the stochastic network the dynamics depend on the so-called inverse temperature $\\beta$. The temperature in this system can be seen as noise. The activity $S_i(t+1)$ in the next time-step follows the probability distribution: \n",
    "\\begin{equation}\n",
    "P\\left(S_i(t+1)=1\\right) = \\frac1{1+\\exp\\left[-h_i(t)\\beta\\right]} \\qquad \\textrm{ where } \\qquad h_i(t) = \\sum_j w_{ij} S_j(t)\n",
    "\\end{equation}\n",
    "That is, it is more likely for a neuron $i$ to be set to +1 if its input $h_i$ is higher.\n",
    "\n",
    "Parameters: network size = 5x5, number of rnd patterns = 5, on probability = 0.5, number of flips = 8, $\\beta$=10.\n",
    "\n",
    "*** Hint 1: *** For inspiration check out the source code of the function _get_sign_update_function()\n",
    "\n",
    "*** Hint 2: *** In order to implement stochasticity, we suggest to use the python-library numpy.random.\n",
    "\n",
    "#### [7 points]"
   ]
  },
  {
   "cell_type": "code",
   "execution_count": null,
   "metadata": {
    "collapsed": true
   },
   "outputs": [],
   "source": [
    "# Synchronous stochastic update\n",
    "def _get_sigmoid_update_function(beta):\n",
    "    \"\"\"\n",
    "    for internal use\n",
    "\n",
    "    Returns:\n",
    "        A function implementing a synchronous state update using the sigmoid function (h)\n",
    "    \"\"\"\n",
    "    def upd(state_s0, weights):\n",
    "        \n",
    "        ???\n",
    "        \n",
    "        return s1\n",
    "    return upd\n",
    "\n",
    "beta = ???\n",
    "hopfield_net_stoch = network.HopfieldNetwork(nr_neurons= pattern_size**2)\n",
    "hopfield_net_stoch.set_dynamics_to_user_function(_get_sigmoid_update_function(beta=beta))"
   ]
  },
  {
   "cell_type": "markdown",
   "metadata": {},
   "source": [
    "## 8.6.3 Finite temperature\n",
    "Choose one of the stored patterns (let's say number 1) and flip 10 bits. Then plot the overlap between the network state and this pattern, $m^1$, over time for different values of $\\beta$, $\\beta\\in \\left[0.1,2,5,100\\right]$.\n",
    "\n",
    "Parameters: network size = 10x10, number of rnd patterns = 5, on probability = 0.5, number of flips = 10, number of trials = 100, number of steps = 9.\n",
    "\n",
    "*** Hint 1:***  In order to plot $m^1$ over time, run the script several times and compute the mean  and the standard deviation $\\sigma$ of the overlap $m^1$ over trials. You can use the function plt.fill and its parameter $\\alpha$ (the transparency), in order to fill with color the area between $+\\sigma$ and $-\\sigma$.\n",
    "\n",
    "*** Hint 2: *** Use the function pattern_tools.compute_overlap()\n",
    "\n",
    "*** Hint 3:*** We suggest to implement and test your code with a smaller network size before getting to the 10x10 units network.\n",
    "#### [7 points]"
   ]
  },
  {
   "cell_type": "code",
   "execution_count": 7,
   "metadata": {
    "collapsed": true
   },
   "outputs": [],
   "source": [
    "def compute_overlap_over_time(hopfield_net, pattern_list, idx, init_state, nTrials, nr_steps):\n",
    "    \"\"\" For a given hopfield_net and a pattern_list, initialize it with the init_state and run it\n",
    "    Compute its overlap with the pattern pattern_list[idx] in time (for nr_steps)\n",
    "    Repeat the above over many trial (nTrials)\n",
    "    \"\"\"\n",
    "    overlap = np.zeros((nTrials,nr_steps+1))\n",
    "    \n",
    "    for i in range(0,nTrials):\n",
    "        \n",
    "        # learn patterns\n",
    "        ???\n",
    "        \n",
    "        # run a synch and stoch Hopfield model with the same initial state\n",
    "        ???\n",
    "        \n",
    "        # let the netwrok dynamics evolve\n",
    "        ???\n",
    "        states_as_patterns = ???\n",
    "        \n",
    "        for i_step in range(len(states_as_patterns)):\n",
    "            overlap[i,i_step] = ???\n",
    "    return overlap\n",
    "\n",
    "\n",
    "# Create the patterns and store them\n",
    "\n",
    "nTrials = ???\n",
    "nr_steps= ???\n",
    "betas = ???\n",
    "\n",
    "overlap_mean = np.zeros((len(betas), nr_steps+1))\n",
    "overlap_std = np.zeros((len(betas), nr_steps+1))\n",
    "for j in range(0, len(betas)):\n",
    "    \n",
    "    ???\n",
    "    \n",
    "    overlap_mean[j,:] = ???\n",
    "    overlap_std[j,:] = ???\n",
    "    \n",
    "    # Plot\n",
    "    ???\n",
    "    \n",
    "    "
   ]
  },
  {
   "cell_type": "markdown",
   "metadata": {},
   "source": [
    "Comment on your plot (max 5 lines).\n",
    "#### [5 points]"
   ]
  },
  {
   "cell_type": "markdown",
   "metadata": {},
   "source": [
    "write your answer here"
   ]
  },
  {
   "cell_type": "markdown",
   "metadata": {},
   "source": [
    "## 8.6.4 Asynchronous stochastic neuron\n",
    "Implement the stochastic neuron of exercise 8.6.2, but with asynchronous update.\n",
    "\n",
    "*** Hint: *** For help check out the source code of the function _get_async_sign_update_function()\n",
    "#### [4 points]"
   ]
  },
  {
   "cell_type": "code",
   "execution_count": null,
   "metadata": {
    "collapsed": true
   },
   "outputs": [],
   "source": [
    "def _get_asynch_sigmoid_update_function(beta):\n",
    "    \"\"\"\n",
    "    for internal use\n",
    "\n",
    "    Returns:\n",
    "        A function implementing a asynchronous state update using the sigmoid function\n",
    "    \"\"\"\n",
    "    def upd(state_s0, weights):\n",
    "        random_neuron_idx_list = np.random.permutation(len(state_s0))\n",
    "        state_s1 = state_s0.copy()\n",
    "        \n",
    "        for i in range(len(random_neuron_idx_list)):\n",
    "            \n",
    "            ???\n",
    "            \n",
    "        return state_s1\n",
    "    return upd\n",
    "\n",
    "beta = ???\n",
    "hopfield_net_asynch_stoch = network.HopfieldNetwork(nr_neurons= pattern_size**2)\n",
    "hopfield_net_asynch_stoch.set_dynamics_to_user_function(_get_asynch_sigmoid_update_function(beta=beta))"
   ]
  },
  {
   "cell_type": "markdown",
   "metadata": {},
   "source": [
    "# 8.7 Energy \n",
    "\n",
    "## 8.7.1 Exercise\n",
    "Set up a deterministic and asynchronous Hopfield network and store 3 random patterns. \n",
    "\n",
    "The energy can be defined as $E=-\\sum_i^N \\sum_j^N w_{ij} S_i S_j$. \n",
    "\n",
    "Implement a function that calculates the energy according to the above definition. \n",
    "\n",
    "Parameters: network size = 10x10, number of rnd patterns = 3, on probability = 0.5.\n",
    "\n",
    "#### [4 points]"
   ]
  },
  {
   "cell_type": "code",
   "execution_count": null,
   "metadata": {
    "collapsed": true
   },
   "outputs": [],
   "source": [
    "# Set up your network\n",
    "???\n",
    "\n",
    "def energy(weight, state):\n",
    "    return ???"
   ]
  },
  {
   "cell_type": "markdown",
   "metadata": {},
   "source": [
    "## 8.7.2 Exercise\n",
    "Compute the energy of one of the stored patterns: $E (\\xi^{\\mu})$.\n",
    "\n",
    "Choose one pattern and gradually flip more and more bits. For that you need to implement a function flip_idx, after checking out the function pattern_tools.flip_n(). How does the energy change and why? (max 3 lines)\n",
    "\n",
    "*** Hint: *** You can get an intuition by plotting the energy of the state as a function of the number of flipped bits.\n",
    "#### [1 + 6 + 4 points]"
   ]
  },
  {
   "cell_type": "code",
   "execution_count": 8,
   "metadata": {
    "collapsed": true
   },
   "outputs": [],
   "source": [
    "nr_flips = np.arange(0,10,1)\n",
    "energy_flips = np.zeros(len(nr_flips))\n",
    "\n",
    "for i in range(len(nr_flips)):\n",
    "    \n",
    "    ???\n",
    "    \n",
    "    e_flips[i] = ???\n",
    "    \n",
    "# Plot\n",
    "???"
   ]
  },
  {
   "cell_type": "markdown",
   "metadata": {},
   "source": [
    "your answer"
   ]
  },
  {
   "cell_type": "markdown",
   "metadata": {},
   "source": [
    "## 8.7.3 Question.\n",
    "Compute the energy of the reverse of one of the stored patterns $E(-\\xi^1)$. What do you observe, what are the consequences on the dynamics of the system and why? (max 3 lines) \n",
    "#### [1 + 3 points]"
   ]
  },
  {
   "cell_type": "markdown",
   "metadata": {},
   "source": [
    "## 8.7.4 Exercise.\n",
    "1 - Initialize the network with the state $S_0 = sgn(\\sum_{\\mu}^3 \\xi^{\\mu})$ and run the dynamics. What is the energy of this state?\n",
    "\n",
    "Parameters: number steps = 4.\n",
    "\n",
    "#### [2 points]"
   ]
  },
  {
   "cell_type": "code",
   "execution_count": 9,
   "metadata": {
    "collapsed": true
   },
   "outputs": [],
   "source": [
    "# write your code here"
   ]
  },
  {
   "cell_type": "markdown",
   "metadata": {},
   "source": [
    "2 - Consider the ensemble of all states that differ from $S_0$ in exactly one flip. Initialize the network in each of those states and check what is the final state of the dynamical evolution.\n",
    "\n",
    "*** Hint: *** Compare the final states with $S_0$.\n",
    "#### [8 points]"
   ]
  },
  {
   "cell_type": "code",
   "execution_count": null,
   "metadata": {
    "collapsed": true
   },
   "outputs": [],
   "source": [
    "# Function to flip one neuron\n",
    "def flip_idx(template, idx):\n",
    "    \"\"\"\n",
    "    makes a copy of the template pattern and flips the idx-th state.\n",
    "    Args:\n",
    "        template:\n",
    "        nr_of_flips:\n",
    "    Returns:\n",
    "        a new pattern\n",
    "    \"\"\"\n",
    "    ???\n",
    "    return ???\n",
    "\n",
    "\n",
    "# Flip all neurons one after the other\n",
    "for i in range(0, pattern_size**2):\n",
    "    \n",
    "    s_0_flipped = flip_idx(s_0, i)\n",
    "    \n",
    "    ???"
   ]
  },
  {
   "cell_type": "markdown",
   "metadata": {},
   "source": [
    "3 - What can you tell about the stability of $S_0$? Briefly comment (max 5 lines). \n",
    "\n",
    "***Hint:*** For help, refer to the pdf on associative memory on the MOODLE (https://moodle.epfl.ch/pluginfile.php/1091071/mod_resource/content/0/Lecture5/Hertz_Hopfield.pdf).\n",
    "\n",
    "#### [6 points]"
   ]
  },
  {
   "cell_type": "markdown",
   "metadata": {},
   "source": [
    "your answer"
   ]
  },
  {
   "cell_type": "markdown",
   "metadata": {},
   "source": [
    "## 8.7.5 Question.\n",
    "Does your argumentation above hold in the case of $S_0 = sgn(\\sum_{\\mu}^2 \\xi^{\\mu})$? Why? (max 3 lines)\n",
    "#### [3 points]"
   ]
  },
  {
   "cell_type": "markdown",
   "metadata": {},
   "source": [
    "## 8.7.6 Exercise.\n",
    "Use now the stochastic neuron with asynchronous update you implemented in 8.6.4. Initialize the network with the state $S_0 = sgn(\\sum_{\\mu}^3 \\xi^{\\mu})$. For $\\beta$ varying in $\\beta\\in \\left[1,2,8,10,100\\right]$, plot the overlap of the network initialized with $S_0$ with each of the 3 stored patterns as a function of time. \n",
    "\n",
    "What do you observe? Comment on the stability of the spurious state $S_0$ in each case. (max 4 lines)\n",
    "\n",
    "Parameters: network size = 10x10, number of rnd patterns = 3, on probability = 0.5, number of steps = 9.\n",
    "\n",
    "*** Hint 1: *** Make 4 plots (or 1 plot with 4 subplots), one for each value of $\\beta$.\n",
    "\n",
    "*** Hint 2: *** You can use the function pattern_tools.compute_overlap_list (or pattern_tools.compute_overlap).\n",
    "#### [5 + 4 points]"
   ]
  },
  {
   "cell_type": "code",
   "execution_count": null,
   "metadata": {
    "collapsed": true
   },
   "outputs": [],
   "source": [
    "???\n",
    "\n",
    "for j in range(0, len(betas)):\n",
    "    \n",
    "    \n",
    "    ???\n",
    "    \n",
    "    \n",
    "    # Compute\n",
    "    \n",
    "    \n",
    "    # Plot"
   ]
  },
  {
   "cell_type": "markdown",
   "metadata": {},
   "source": [
    "your answer"
   ]
  }
 ],
 "metadata": {
  "anaconda-cloud": {},
  "celltoolbar": "Raw Cell Format",
  "kernelspec": {
   "display_name": "Python 2",
   "language": "python",
   "name": "python2"
  },
  "language_info": {
   "codemirror_mode": {
    "name": "ipython",
    "version": 2
   },
   "file_extension": ".py",
   "mimetype": "text/x-python",
   "name": "python",
   "nbconvert_exporter": "python",
   "pygments_lexer": "ipython2",
   "version": "2.7.14"
  }
 },
 "nbformat": 4,
 "nbformat_minor": 1
}
