{
 "cells": [
  {
   "cell_type": "markdown",
   "metadata": {},
   "source": [
    "# Solution Graded Exercise 1: Leaky-integrate-and-fire model"
   ]
  },
  {
   "cell_type": "markdown",
   "metadata": {},
   "source": [
    "first name: ...\n",
    "\n",
    "last name: ...\n",
    "\n",
    "sciper: ...\n",
    "\n",
    "date: ...\n",
    "\n",
    "*Your teammate*\n",
    "\n",
    "first name of your teammate: ...\n",
    "\n",
    "last name of your teammate: ...\n",
    "\n",
    "sciper of your teammate: ...\n",
    "\n",
    "\n",
    "Note: You are allowed to discuss the concepts with your class mates. You are not allowed to share code. You have to understand every line of code you write in this notebook. We will ask you questions about your submission during a fraud detection session during the last week of the semester.\n",
    "\n",
    "If you are asked for plots: The appearance of the plots (labelled axes, useful scaling etc.) is important!\n",
    "\n",
    "If you are asked for discussions: Answer in a precise way and try to be concise. \n",
    "\n",
    "\n",
    "** Submission **\n",
    "\n",
    "Rename this notebook to Ex2_FirstName_LastName_Sciper.ipynb and upload that single file on moodle before the deadline.\n",
    "\n",
    "** Link to the exercise **\n",
    "\n",
    "http://neuronaldynamics-exercises.readthedocs.io/en/stable/exercises/leaky-integrate-and-fire.html"
   ]
  },
  {
   "cell_type": "markdown",
   "metadata": {},
   "source": [
    "# Exercise 2, getting started"
   ]
  },
  {
   "cell_type": "code",
   "execution_count": null,
   "metadata": {},
   "outputs": [],
   "source": [
    "%matplotlib inline\n",
    "import brian2 as b2\n",
    "import matplotlib.pyplot as plt\n",
    "import numpy as np\n",
    "from neurodynex.leaky_integrate_and_fire import LIF\n",
    "from neurodynex.tools import input_factory, plot_tools\n",
    "\n",
    "\n",
    "LIF.getting_started()\n",
    "LIF.print_default_parameters()"
   ]
  },
  {
   "cell_type": "markdown",
   "metadata": {},
   "source": [
    "# 2.1 Exercise: minimal current\n",
    "## 2.1.1. Question: minimal current (calculation) \n",
    "#### [2 points]"
   ]
  },
  {
   "cell_type": "code",
   "execution_count": null,
   "metadata": {},
   "outputs": [],
   "source": [
    "from neurodynex.leaky_integrate_and_fire import LIF\n",
    "print(\"resting potential: {}\".format(LIF.V_REST))"
   ]
  },
  {
   "cell_type": "markdown",
   "metadata": {},
   "source": [
    "Calculate i_min here (write down your formula)"
   ]
  },
  {
   "cell_type": "markdown",
   "metadata": {},
   "source": [
    "## 2.1.2. Question: minimal current (simulation)\n",
    "#### [2 points]"
   ]
  },
  {
   "cell_type": "code",
   "execution_count": null,
   "metadata": {},
   "outputs": [],
   "source": [
    "# create a step current with amplitude= i_min\n",
    "step_current = input_factory.get_step_current(\n",
    "    t_start=5, t_end=100, unit_time=b2.ms,\n",
    "    amplitude= i_min)  # set i_min to your value\n",
    "\n",
    "# run the LIF model.\n",
    "# Note: As we do not specify any model parameters, the simulation runs with the default values\n",
    "(state_monitor,spike_monitor) = LIF.simulate_LIF_neuron(input_current=step_current, simulation_time = 100 * b2.ms)\n",
    "\n",
    "# plot I and vm\n",
    "plot_tools.plot_voltage_and_current_traces(\n",
    "state_monitor, step_current, title=\"min input\", firing_threshold=LIF.FIRING_THRESHOLD)\n",
    "print(\"nr of spikes: {}\".format(spike_monitor.count[0]))  # should be 0"
   ]
  },
  {
   "cell_type": "markdown",
   "metadata": {},
   "source": [
    "# 2.2. Exercise: f-I Curve \n",
    "## 2.2.1. Question: f-I Curve and refractoryness\n"
   ]
  },
  {
   "cell_type": "markdown",
   "metadata": {
    "collapsed": true
   },
   "source": [
    "1 - Sketch or plot the curve with some program. You don't have to include it here, it is just for your understanding and will not be graded.\n",
    "\n",
    "2 - What is the maximum rate at which this neuron can fire?\n",
    "#### [3 points]"
   ]
  },
  {
   "cell_type": "code",
   "execution_count": null,
   "metadata": {
    "collapsed": true
   },
   "outputs": [],
   "source": [
    "\n"
   ]
  },
  {
   "cell_type": "markdown",
   "metadata": {
    "collapsed": true
   },
   "source": [
    "3 - Inject currents of different amplitudes (from 0nA to 100nA) into a LIF neuron. \n",
    "For each current, run the simulation for 500ms and determine the firing frequency in Hz. Then plot the f-I curve. \n",
    "#### [4 points]"
   ]
  },
  {
   "cell_type": "code",
   "execution_count": null,
   "metadata": {
    "collapsed": true
   },
   "outputs": [],
   "source": []
  },
  {
   "cell_type": "markdown",
   "metadata": {},
   "source": [
    "# 2.3. Exercise: “Experimentally” estimate the parameters of a LIF neuron\n",
    "## 2.3.1. Question: “Read” the LIF parameters out of the vm plot\n",
    "#### [6 points]"
   ]
  },
  {
   "cell_type": "code",
   "execution_count": null,
   "metadata": {
    "collapsed": true
   },
   "outputs": [],
   "source": [
    "# get a random parameter. provide a random seed to have a reproducible experiment\n",
    "random_parameters = LIF.get_random_param_set(random_seed=432)\n",
    "\n",
    "# define your test current\n",
    "test_current = input_factory.get_step_current(\n",
    "    t_start=..., t_end=..., unit_time=b2.ms, amplitude= ... * b2.namp)\n",
    "\n",
    "# probe the neuron. pass the test current AND the random params to the function\n",
    "state_monitor, spike_monitor = LIF.simulate_random_neuron(test_current, random_parameters)\n",
    "\n",
    "# plot\n",
    "plot_tools.plot_voltage_and_current_traces(state_monitor, test_current, title=\"experiment\")\n",
    "\n",
    "# print the parameters to the console and compare with your estimates\n",
    "# LIF.print_obfuscated_parameters(random_parameters)"
   ]
  },
  {
   "cell_type": "markdown",
   "metadata": {},
   "source": [
    "# 2.4. Exercise: Sinusoidal input current and subthreshold response\n",
    "## 2.4.1. Question\n",
    "#### [5 points]"
   ]
  },
  {
   "cell_type": "code",
   "execution_count": null,
   "metadata": {
    "collapsed": true
   },
   "outputs": [],
   "source": [
    "# note the higher resolution when discretizing the sine wave: we specify unit_time=0.1 * b2.ms\n",
    "sinusoidal_current = input_factory.get_sinusoidal_current(200, 1000, unit_time=0.1 * b2.ms,\n",
    "                                            amplitude= 2.5 * b2.namp, frequency=250*b2.Hz,\n",
    "                                            direct_current=0. * b2.namp)\n",
    "\n",
    "# run the LIF model. By setting the firing threshold to to a high value, we make sure to stay in the linear (non spiking) regime.\n",
    "(state_monitor, spike_monitor) = LIF.simulate_LIF_neuron(input_current=sinusoidal_current, simulation_time = 120 * b2.ms, \n",
    "                                                         firing_threshold=0*b2.mV)\n",
    "\n",
    "# plot the membrane voltage\n",
    "plot_tools.plot_voltage_and_current_traces(state_monitor, sinusoidal_current, title=\"Sinusoidal input current\")\n",
    "print(\"nr of spikes: {}\".format(spike_monitor.count[0]))"
   ]
  },
  {
   "cell_type": "markdown",
   "metadata": {},
   "source": [
    "## 2.4.2. Question\n",
    "#### [5 points]"
   ]
  },
  {
   "cell_type": "code",
   "execution_count": null,
   "metadata": {
    "collapsed": true
   },
   "outputs": [],
   "source": [
    "# For input frequencies between 10Hz and 1kHz plot the the resulting amplitude of subthreshold oscillations of the \n",
    "# membrane potential vs. input frequency."
   ]
  },
  {
   "cell_type": "markdown",
   "metadata": {},
   "source": [
    "## 2.4.3. Question\n",
    "#### [5 points]"
   ]
  },
  {
   "cell_type": "code",
   "execution_count": null,
   "metadata": {
    "collapsed": true
   },
   "outputs": [],
   "source": [
    "# For input frequencies between 10Hz and 1kHz\n",
    "# plot the resulting phase shift of subthreshold oscillations of the membrane potential vs. input frequency."
   ]
  },
  {
   "cell_type": "markdown",
   "metadata": {},
   "source": [
    "## 2.4.4. Question\n",
    "#### [3 points]"
   ]
  },
  {
   "cell_type": "markdown",
   "metadata": {},
   "source": [
    "Write your answer here. Justify it briefly."
   ]
  },
  {
   "cell_type": "markdown",
   "metadata": {
    "collapsed": true
   },
   "source": [
    "# 2.5  Leaky integrate-and-fire neuron with noisy input\n",
    "This exercise is not available online. All information is given here.\n",
    "So far you have explored the leaky integrate-and-fire model with step and sinusoidal input currents. We will now investigate the same neuron model with noisy input.\n",
    "The voltage equation now is:\n",
    "\\begin{eqnarray}\n",
    "\\tau \\frac{du}{dt} = -u(t) + u_{rest} + RI(t) + RI_{noise}(t)\n",
    "\\end{eqnarray}\n",
    "where the noise is simply an additional term.\n",
    "\n",
    "To implement the noise term in the above equation we will consider it as 'white noise', $I_{noise}(t) = \\sigma \\xi(t)$. White noise $\\xi$ is a stochastic process with expectation value $<\\xi(t)>=0$ and autocorrelation $<\\xi(t)\\xi(t+\\Delta)>=\\delta(\\Delta)$ Note that, as we saw in the Exercise set of Week 1, the $\\delta$-function has units of $1/time$, so $\\xi$ has units of $1/\\sqrt{time}$.\n",
    "\n",
    "It can be shown that the discrete time implementation of a noisy voltage trajectory is:\n",
    "\\begin{eqnarray}\n",
    "du = (-u(t) + u_{rest} + RI(t))\\frac{dt}{\\tau} + \\frac{R}{\\tau}\\sigma \\sqrt{dt}\\ y,\n",
    "\\end{eqnarray}\n",
    "where $y \\sim \\mathcal{N}(0, 1)$\n",
    "\n",
    "We can then write, again for implementational purposes:\n",
    "\\begin{eqnarray}\n",
    "du = \\big[-u(t) + u_{rest} + R(I(t) + \\sigma \\frac{1}{\\sqrt{dt}} y) \\big]\\frac{dt}{\\tau}\n",
    "\\end{eqnarray}\n",
    "\n",
    "\n",
    "Note that for the physical units to be consistent $\\sigma$ in our formulation has units of $current * \\sqrt{time}$. \n",
    "\n",
    "Details of the above are beyond the scope of this exercise. If you would like to get more insights we refer to the paragraph 8.1 of the book (http://neuronaldynamics.epfl.ch/online/Ch8.S1.html), to http://www.scholarpedia.org/article/Stochastic_dynamical_systems#Ornstein-Uhlenbeck_process and regarding the implementational scaling of the noise to http://brian2.readthedocs.io/en/stable/user/models.html#time-scaling-of-noise."
   ]
  },
  {
   "cell_type": "markdown",
   "metadata": {},
   "source": [
    "### 2.5.1 Noisy step input current\n",
    "\n",
    "#### [7 points]\n",
    "1 - Implement the noisy current $I_0 + I_{noise}$ as described above. In order to do this edit the function get_noisy_step_current provided below. This is simply a copy of the code of the function get_step_current that you used earlier, and you just need to add the noisy part of the current at the indicated line (indicated by \"???\").\n",
    "\n",
    "Then create a noisy step current with amplitude $I_0 = 1.5nA$ and $\\sigma = 1 nA* \\sqrt{\\text{your time unit}}$ (e.g.: time_unit = 1 ms), run the LIF model and plot the input current and the membrane potential, as you did in the previous exercises."
   ]
  },
  {
   "cell_type": "code",
   "execution_count": null,
   "metadata": {},
   "outputs": [],
   "source": [
    "def get_noisy_step_current(t_start, t_end, unit_time, amplitude, sigma, append_zero=True):\n",
    "\n",
    "    \"\"\"Creates a step current with added noise. If t_start == t_end, then a single\n",
    "    entry in the values array is set to amplitude.\n",
    "\n",
    "    Args:\n",
    "        t_start (int): start of the step\n",
    "        t_end (int): end of the step\n",
    "        unit_time (Quantity, Time): unit of t_start and t_end. e.g. 0.1*brian2.ms\n",
    "        amplitude (Quantity): amplitude of the step. e.g. 3.5*brian2.uamp\n",
    "        sigma (float): amplitude (std) of the noise. e.g. 0.1*b2.uamp\n",
    "        append_zero (bool, optional): if true, 0Amp is appended at t_end+1.\n",
    "        Without that trailing 0, Brian reads out the last value in the array (=amplitude) for all indices > t_end.\n",
    "\n",
    "    Returns:\n",
    "        TimedArray: Brian2.TimedArray\n",
    "    \"\"\"\n",
    "\n",
    "    assert isinstance(t_start, int), \"t_start_ms must be of type int\"\n",
    "    assert isinstance(t_end, int), \"t_end must be of type int\"\n",
    "    assert b2.units.fundamentalunits.have_same_dimensions(amplitude, b2.amp), \\\n",
    "        \"amplitude must have the dimension of current e.g. brian2.uamp\"\n",
    "\n",
    "    tmp_size = 1 + t_end  # +1 for t=0\n",
    "    if append_zero:\n",
    "        tmp_size += 1\n",
    "    tmp = np.zeros((tmp_size, 1)) * b2.amp\n",
    "    \n",
    "    tmp[t_start:t_end] = amplitude + ???\n",
    "    # Use np.random.randn(...) for generating random numbers\n",
    "    # Pay attention the correct scaling (variance) of the noise with respect to unit_time (see formulas above)\n",
    "    \n",
    "    curr = b2.TimedArray(tmp, dt= unit_time)\n",
    "    return curr\n",
    "\n",
    "# -------------------\n",
    "amplitude = 1.5*b2.nA\n",
    "time_unit = 1.*b2.ms\n",
    "time_step = 1.*b2.ms\n",
    "sigma = ???\n",
    "\n",
    "# Create a noisy step current\n",
    "noisy_step_current = get_noisy_step_current(t_start=50, t_end=500, unit_time = time_step,\n",
    "                                            amplitude= amplitude, sigma = sigma)\n",
    "\n",
    "# Run the LIF model\n",
    "(state_monitor,spike_monitor) = LIF.simulate_LIF_neuron(input_current=noisy_step_current, \\\n",
    "                                                        simulation_time = 500*b2.ms)\n",
    "\n",
    "# plot I and vm\n",
    "plot_tools.plot_voltage_and_current_traces(state_monitor, noisy_step_current, title=\"min input\", \\\n",
    "                                           firing_threshold=LIF.FIRING_THRESHOLD)\n",
    "print(\"nr of spikes: {}\".format(spike_monitor.count[0]))"
   ]
  },
  {
   "cell_type": "markdown",
   "metadata": {},
   "source": [
    "2 - How does the neuron behave? Discuss your result. Your answer should be max 3 lines long."
   ]
  },
  {
   "cell_type": "markdown",
   "metadata": {},
   "source": [
    "Write your answer here."
   ]
  },
  {
   "cell_type": "markdown",
   "metadata": {
    "collapsed": true
   },
   "source": [
    "### 2.5.2 Subthreshold vs. superthreshold regime\n",
    "#### [7 + 5 = 12 points]\n",
    "1 - A time-dependent input current $I(t)$ is called subthreshold if it does not lead to spiking, i.e. if it leads to a membrane potential that stays - in the absence of noise - below the firing threshold. When noise is added, however, even subthreshold stimuli can induce spikes. Input stimuli that lead to spiking even in a noise-free neuron are called superthreshold. Sub- and superthreshold inputs, in the presence and absence of noise give rise to different spiking behaviour. These 4 different regimes (sub, super, noiseless, noisy) are what we will explore in this exercise.\n",
    "\n",
    "Create a function that takes the amplitudes of a step current and the noise as arguments. It should simulate the LIF-model with this input, calculate the interspike intervals (ISI) and plot a histogram of the ISI (the interspike interval is the time interval between two consecutive spikes).\n",
    "\n",
    "In order to do so edit the function test_effect_of_noise provided below. A few more details:\n",
    "* Use the function spike_tools.get_spike_train_stats (http://neuronaldynamics-exercises.readthedocs.io/en/latest/_modules/neurodynex/tools/spike_tools.html#get_spike_train_stats) to get the ISI. Have a look at its source code to understand how to use it and what it returns. You may need to use other parts of the documentation as well.\n",
    "* You will need to simulate the neuron model for long enough to get some statistics.\n",
    "* Optional and recommended: What would you expect the resulting histograms to look like?\n",
    "\n",
    "2 - Run your function and create the ISI histograms for the following four regimes:\n",
    "* No noise, subthreshold: $I_0 = 1.9nA$, $\\sigma = 0 nA* \\sqrt{\\text{your time unit}}$\n",
    "* Noise, subthreshold regime: $I_0 = 1.9nA$, $\\sigma = 1 nA* \\sqrt{\\text{your time unit}}$\n",
    "* No noise, superthreshold regime: $I_0 = 2.5nA$, $\\sigma = 0 nA* \\sqrt{\\text{your time unit}}$\n",
    "* Noise, superthreshold regime: $I_0 = 2.5nA$, $\\sigma = 1 nA* \\sqrt{\\text{your time unit}}$"
   ]
  },
  {
   "cell_type": "code",
   "execution_count": 4,
   "metadata": {},
   "outputs": [
    {
     "ename": "SyntaxError",
     "evalue": "invalid syntax (<ipython-input-4-558499fcf879>, line 20)",
     "output_type": "error",
     "traceback": [
      "\u001b[0;36m  File \u001b[0;32m\"<ipython-input-4-558499fcf879>\"\u001b[0;36m, line \u001b[0;32m20\u001b[0m\n\u001b[0;31m    spike_stats = ???\u001b[0m\n\u001b[0m                  ^\u001b[0m\n\u001b[0;31mSyntaxError\u001b[0m\u001b[0;31m:\u001b[0m invalid syntax\n"
     ]
    }
   ],
   "source": [
    "from neurodynex.tools import spike_tools, plot_tools\n",
    "\n",
    "# time unit. e.g.\n",
    "time_unit = 1.*b2.ms\n",
    "time_step = time_unit\n",
    "\n",
    "def test_effect_of_noise(amplitude, sigma, nr_of_bins = 50):\n",
    "    \n",
    "    # Create a noisy step current \n",
    "    noisy_step_current = get_noisy_step_current(t_start=50, t_end=5000, unit_time = time_step,\n",
    "                                                amplitude= amplitude, sigma = sigma)\n",
    "    \n",
    "    # Run the LIF model\n",
    "    (state_monitor,spike_monitor) = LIF.simulate_LIF_neuron(input_current=noisy_step_current, \\\n",
    "                                                            simulation_time = 5000 * b2.ms)\n",
    "\n",
    "    plt.figure()\n",
    "    plot_tools.plot_voltage_and_current_traces(state_monitor, noisy_step_current, title=\"\", \\\n",
    "                                              firing_threshold=LIF.FIRING_THRESHOLD)\n",
    "    plt.show()\n",
    "    \n",
    "    print(\"nr of spikes: {}\".format(spike_monitor.count[0]))\n",
    "    \n",
    "    # Use the function spike_tools.get_spike_train_stats\n",
    "    spike_stats = ???\n",
    "\n",
    "    # Make the ISI histogram\n",
    "    if len(spike_stats._all_ISI) != 0:\n",
    "        plt.hist(???)\n",
    "        # choose an appropriate window size for the x-axis (ISI-axis)!\n",
    "        plt.show()\n",
    "        \n",
    "    return spike_stats\n",
    "\n",
    "\n",
    "# 1. No noise, subthreshold\n",
    "stats1 = test_effect_of_noise(amplitude = ???, sigma = ???)\n",
    "\n",
    "# 2. Noise, subthreshold regime\n",
    "stats2 = test_effect_of_noise(amplitude = ???, sigma = ???)\n",
    "\n",
    "# 3. No noise, superthreshold regime\n",
    "stats3 = test_effect_of_noise(amplitude = ???, sigma = ???)\n",
    "\n",
    "# 4. Noise, superthreshold regime\n",
    "stats4 = test_effect_of_noise(amplitude = ???, sigma = ???)"
   ]
  },
  {
   "cell_type": "markdown",
   "metadata": {
    "collapsed": true
   },
   "source": [
    "2 - Discuss yout results (ISI histograms) for the four regimes regimes. For help and inspiration, as well as for verification of your results, have a look at the book chapter 8.3 (http://neuronaldynamics.epfl.ch/online/Ch8.S3.html). Your answer should be max 5 lines long.\n",
    "#### [5 points]"
   ]
  },
  {
   "cell_type": "markdown",
   "metadata": {},
   "source": [
    "Write your answer here."
   ]
  },
  {
   "cell_type": "markdown",
   "metadata": {},
   "source": [
    "3 - For the ISI histograms you needed to simulate the neuron for a long time to gather enought statistics for the ISI. If you wanted to parallelize this procedure in order to reduce the computation time (e.g. you have multiple CPU cores on your machine), what would be a simple method to do that? Your answer should be max 3 lines long.\n",
    "\n",
    "Hint: Temporal vs. ensemble average...\n",
    "#### [2 points]"
   ]
  },
  {
   "cell_type": "markdown",
   "metadata": {},
   "source": [
    "Write your answer here."
   ]
  },
  {
   "cell_type": "markdown",
   "metadata": {},
   "source": [
    "### 2.5.3 Noisy sinusoidal input current\n",
    "Implement the noisy sinusoidal input current $I(t) + I_{noise}$. As before, edit the function provided below; you only have to add the noisy part ot the current.\n",
    "\n",
    "Then create a noisy sinusoidal current with amplitude = $2.5nA$, frequency = $100Hz$, $\\sigma = 1 nA* \\sqrt{\\text{your time unit}}$ and direct_current = $1.5nA$, run the LIF model and plot the input current and the membrane potential, as you did in the previous exercises. What do you observe when compared to the noiseless case ($\\sigma = 0 nA*\\sqrt{\\text{your time unit}}$)?\n",
    "#### [5 points]"
   ]
  },
  {
   "cell_type": "code",
   "execution_count": null,
   "metadata": {
    "collapsed": true
   },
   "outputs": [],
   "source": [
    "import math\n",
    "\n",
    "def get_noisy_sinusoidal_current(t_start, t_end, unit_time,\n",
    "                           amplitude, frequency, direct_current, sigma, phase_offset=0.,\n",
    "                           append_zero=True):\n",
    "    \"\"\"Creates a noisy sinusoidal current. If t_start == t_end, then ALL entries are 0.\n",
    "\n",
    "    Args:\n",
    "        t_start (int): start of the sine wave\n",
    "        t_end (int): end of the sine wave\n",
    "        unit_time (Quantity, Time): unit of t_start and t_end. e.g. 0.1*brian2.ms\n",
    "        amplitude (Quantity, Current): maximum amplitude of the sinus e.g. 3.5*brian2.uamp\n",
    "        frequency (Quantity, Hz): Frequency of the sine. e.g. 0.5*brian2.kHz\n",
    "        direct_current(Quantity, Current): DC-component (=offset) of the current\n",
    "        sigma (float): amplitude (std) of the noise. e.g. 0.1*b2.uamp\n",
    "        phase_offset (float, Optional): phase at t_start. Default = 0.\n",
    "        append_zero (bool, optional): if true, 0Amp is appended at t_end+1. Without that\n",
    "            trailing 0, Brian reads out the last value in the array for all indices > t_end.\n",
    "\n",
    "\n",
    "    Returns:\n",
    "        TimedArray: Brian2.TimedArray\n",
    "    \"\"\"\n",
    "    assert isinstance(t_start, int), \"t_start_ms must be of type int\"\n",
    "    assert isinstance(t_end, int), \"t_end must be of type int\"\n",
    "    assert b2.units.fundamentalunits.have_same_dimensions(amplitude, b2.amp), \\\n",
    "        \"amplitude must have the dimension of current. e.g. brian2.uamp\"\n",
    "    assert b2.units.fundamentalunits.have_same_dimensions(direct_current, b2.amp), \\\n",
    "        \"direct_current must have the dimension of current. e.g. brian2.uamp\"\n",
    "    assert b2.units.fundamentalunits.have_same_dimensions(frequency, b2.Hz), \\\n",
    "        \"frequency must have the dimension of 1/Time. e.g. brian2.Hz\"\n",
    "    \n",
    "    tmp_size = 1 + t_end  # +1 for t=0\n",
    "    if append_zero:\n",
    "        tmp_size += 1\n",
    "    tmp = np.zeros((tmp_size, 1)) * b2.amp\n",
    "    if t_end > t_start:  # if deltaT is zero, we return a zero current\n",
    "        phi = range(0, (t_end - t_start) + 1)\n",
    "        phi = phi * unit_time * frequency\n",
    "        phi = phi * 2. * math.pi + phase_offset\n",
    "        c = numpy.sin(phi)\n",
    "        c = (direct_current + c * amplitude) # add direct current and scale by amplitude\n",
    "        tmp[t_start: t_end + 1, 0] = c # add sinusoidal part of current\n",
    "        \n",
    "        # Add noisy part of current here\n",
    "        # Pay attention to correct scaling with respect to the unit_time (time_step)\n",
    "        tmp[t_start:t_end] += ???\n",
    "        \n",
    "    curr = b2.TimedArray(tmp, dt= unit_time)\n",
    "    return curr\n",
    "    \n",
    "# ------------------\n",
    "amplitude = ???\n",
    "frequency = ??? \n",
    "time_unit = 1.*b2.ms\n",
    "time_step = 0.1*b2.ms # This is needed for higher temporal resolution \n",
    "sigma = ???\n",
    "direct_current = ???\n",
    "\n",
    "\n",
    "# Create a noisy sinusoidal current\n",
    "noisy_sinusoidal_current = get_noisy_sinusoidal_current(200, 800, unit_time = time_step,\n",
    "                                           amplitude= amplitude, frequency=frequency,\n",
    "                                          direct_current=direct_current, sigma = sigma)\n",
    "\n",
    "# Run the LIF model\n",
    "(state_monitor,spike_monitor) = LIF.simulate_LIF_neuron(input_current=noisy_sinusoidal_current, \\\n",
    "                                                        simulation_time = 100 * b2.ms)\n",
    "\n",
    "# plot I and vm\n",
    "plot_tools.plot_voltage_and_current_traces(state_monitor, noisy_sinusoidal_current, title=\"\", \\\n",
    "                                           firing_threshold=LIF.FIRING_THRESHOLD)\n",
    "print(\"nr of spikes: {}\".format(spike_monitor.count[0]))"
   ]
  },
  {
   "cell_type": "markdown",
   "metadata": {},
   "source": [
    "### 2.5.4 Stochastic resonance (Bonus, not graded)\n",
    "Contrary to what one may expect, some amount of noise under certain circumstances can improve the signal transmission properties of neurons. In the subthreshold regime, a neuron cannot transmit any information about the temporal structure of its input since it does not spike. With some noise, there is some probability to spike, with the probability depending on the time dependent input (inhomogeneous Poisson process). However to much noise covers the signal completely and thus, there is usually an optimal value for the amplitude of the noise. This phenomenon is called \"stochastic resonance\" and we will briefly touch upon it in this exercise. To get an idea of the effect we suggest reading section 9.4.2 in the book: http://neuronaldynamics.epfl.ch/online/Ch9.S4.html.\n",
    "\n",
    "1 - Simulate several (e.g. n_inits = 5) trials of a LIF neuron with noisy sinusoidal current. For each trial calculate the power spectrum of the resulting spike train (using the function spike_tools.get_averaged_single_neuron_power_spectrum). Finally calculate the average power spectrum and plot it. With appropriate noise amplitudes, you should see a pronounced peak at the driving frequency, while without noise we don't see anything in the power spectrum since no spike was elicited in the subthreshold regime we are in. \n",
    "\n",
    "In order to do that use the provided parameters and edit the code provided below. Complete the function _run_sim() which creates the input current, runs a simulation and computes the power spectrum. Call it in a loop to execute several trials. Then average over the spectra to obtain a smooth spectrum to plot."
   ]
  },
  {
   "cell_type": "code",
   "execution_count": null,
   "metadata": {
    "collapsed": true
   },
   "outputs": [],
   "source": [
    "amplitude = 1.*b2.nA\n",
    "frequency = 20*b2.Hz\n",
    "time_unit = 1.*b2.ms\n",
    "time_step = .1*b2.ms\n",
    "direct_current = 1. * b2.nA\n",
    "sampling_frequency = .01/time_step\n",
    "noise_amplitude = 2.\n",
    "n_inits = 5\n",
    "\n",
    "# run simulation and calculate power spectrum\n",
    "def _run_sim(amplitude, noise_amplitude):\n",
    "    noisy_sinusoidal_current = get_noisy_sinusoidal_current(50, 100000, unit_time = time_step,\n",
    "                                               amplitude= ???, frequency= ???,\n",
    "                                                            direct_current= ???,\n",
    "                                                            sigma = noise_amplitude*b2.nA*np.sqrt(time_unit))\n",
    "    # run the LIF model\n",
    "    (state_monitor,spike_monitor) = LIF.simulate_LIF_neuron(input_current=noisy_sinusoidal_current, \\\n",
    "                                                            simulation_time = 10000 * b2.ms)\n",
    "    # get power spectrum\n",
    "    freq, mean_ps, all_ps_dict, mean_firing_rate, mean_firing_freqs_per_neuron = \\\n",
    "    spike_tools.get_averaged_single_neuron_power_spectrum(spike_monitor, sampling_frequency,\n",
    "                                                 window_t_min = 1000*b2.ms, window_t_max = 9000*b2.ms,\n",
    "                                                nr_neurons_average=1, subtract_mean=True)\n",
    "    \n",
    "    return freq, all_ps_dict, mean_firing_rate\n",
    "\n",
    "\n",
    "# initialize array\n",
    "spectra = []\n",
    "# run a few simulations, calculate the power spectrum and append it to the spectra array\n",
    "for i in ???:\n",
    "    freq, spectrum, mfr = ???\n",
    "    spectra.append(spectrum[0])\n",
    "\n",
    "# average spectra over trials\n",
    "spectrum = ??? # hint: us np.mean with axis=0\n",
    "\n",
    "# plotting, frequencies vs the obtained spectrum:\n",
    "plt.figure()\n",
    "plt.plot(???,???)\n",
    "plt.xlabel(\"???\")\n",
    "plt.ylabel(\"???\")"
   ]
  },
  {
   "cell_type": "markdown",
   "metadata": {},
   "source": [
    "2 - We now apply different noise levels to investigate the optimal noise level of stochastic resonance. \n",
    "\n",
    "The quantity to optimize is the signal-to-noise ratio (SNR). Here, the SNR is defined as the intensity of the power spectrum at the driving frequency (the peak from above), divided by the value of the background noise (power spectrum averaged around the peak).\n",
    "\n",
    "In order to do that edit the code provided below. You can re-use the function _run_sim() to obtain the power spectrum of on trial. The calculation of the SNR is already implemented and doesn't need to be changed.\n",
    "\n",
    "When you are done with completing the code, run the simulation with the proposed parameters (This could take several minutes...). The result should be a plot showing an optimal noise amplitude, i.e. a $\\sigma$ where the SNR is maximal."
   ]
  },
  {
   "cell_type": "code",
   "execution_count": null,
   "metadata": {
    "collapsed": true
   },
   "outputs": [],
   "source": [
    "def get_snr(amplitude, noise_amplitude, n_inits):\n",
    "    \n",
    "    spectra = []\n",
    "    snr = 0.\n",
    "    for i in range(0,n_inits):\n",
    "        # run model with noisy sinusoidal \n",
    "        freq_signal, spectrum, mfr = ???\n",
    "        spectra.append(spectrum[0])\n",
    "\n",
    "    # Average over trials to get power spectrum\n",
    "    spectrum = ???\n",
    "\n",
    "    if mfr != 0.*b2.Hz:\n",
    "        peak = np.amax(spectrum)\n",
    "        index_of_peak = np.argmax(spectrum)\n",
    "        # snr: divide peak value by average of surrounding values\n",
    "        snr = peak/np.mean(np.concatenate((spectrum[index_of_peak-100:index_of_peak-1],\\\n",
    "                                           spectrum[index_of_peak+1:index_of_peak+100])))\n",
    "    else:\n",
    "        snr = 0.\n",
    "        \n",
    "    return snr\n",
    "\n",
    "noise_amplitudes = np.arange(0.,5.,.5)\n",
    "snr = np.zeros(len(noise_amplitudes))\n",
    "for j in np.arange(0,len(noise_amplitudes)):\n",
    "    snr[j] = get_snr(amplitude, noise_amplitudes[j], n_inits = 8)\n",
    "\n",
    "\n",
    "plt.figure()\n",
    "plt.plot(noise_amplitudes,snr)\n",
    "plt.xlabel(\"???\")\n",
    "plt.ylabel(\"???\")\n",
    "plt.show()"
   ]
  },
  {
   "cell_type": "markdown",
   "metadata": {},
   "source": [
    "3 - For further reading on this topic, consult the book chapter 9.4.2 (http://neuronaldynamics.epfl.ch/online/Ch9.S4.html#Ch9.F10)."
   ]
  }
 ],
 "metadata": {
  "anaconda-cloud": {},
  "celltoolbar": "Raw Cell Format",
  "kernelspec": {
   "display_name": "Python 2",
   "language": "python",
   "name": "python2"
  },
  "language_info": {
   "codemirror_mode": {
    "name": "ipython",
    "version": 2
   },
   "file_extension": ".py",
   "mimetype": "text/x-python",
   "name": "python",
   "nbconvert_exporter": "python",
   "pygments_lexer": "ipython2",
   "version": "2.7.14"
  }
 },
 "nbformat": 4,
 "nbformat_minor": 1
}
